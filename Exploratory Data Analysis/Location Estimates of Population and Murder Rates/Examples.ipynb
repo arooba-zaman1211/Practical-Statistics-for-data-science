{
 "cells": [
  {
   "cell_type": "markdown",
   "id": "b194b29b",
   "metadata": {},
   "source": [
    "# Measures of Central Tedency"
   ]
  },
  {
   "cell_type": "markdown",
   "id": "70136d40",
   "metadata": {},
   "source": [
    "### Loading Libraries"
   ]
  },
  {
   "cell_type": "code",
   "execution_count": 1,
   "id": "a72571ce",
   "metadata": {},
   "outputs": [],
   "source": [
    "import pandas as pd\n",
    "import matplotlib.pyplot as plt\n",
    "import seaborn as sns\n",
    "from scipy.stats import trim_mean\n",
    "import numpy as np\n",
    "from statsmodels import robust\n",
    "sns.set()"
   ]
  },
  {
   "cell_type": "markdown",
   "id": "81645335",
   "metadata": {},
   "source": [
    "### Loading data"
   ]
  },
  {
   "cell_type": "code",
   "execution_count": 2,
   "id": "87bb5a1a",
   "metadata": {},
   "outputs": [
    {
     "data": {
      "text/html": [
       "<div>\n",
       "<style scoped>\n",
       "    .dataframe tbody tr th:only-of-type {\n",
       "        vertical-align: middle;\n",
       "    }\n",
       "\n",
       "    .dataframe tbody tr th {\n",
       "        vertical-align: top;\n",
       "    }\n",
       "\n",
       "    .dataframe thead th {\n",
       "        text-align: right;\n",
       "    }\n",
       "</style>\n",
       "<table border=\"1\" class=\"dataframe\">\n",
       "  <thead>\n",
       "    <tr style=\"text-align: right;\">\n",
       "      <th></th>\n",
       "      <th>State</th>\n",
       "      <th>Population</th>\n",
       "      <th>Murder.Rate</th>\n",
       "      <th>Abbreviation</th>\n",
       "    </tr>\n",
       "  </thead>\n",
       "  <tbody>\n",
       "    <tr>\n",
       "      <th>0</th>\n",
       "      <td>Alabama</td>\n",
       "      <td>4779736</td>\n",
       "      <td>5.7</td>\n",
       "      <td>AL</td>\n",
       "    </tr>\n",
       "    <tr>\n",
       "      <th>1</th>\n",
       "      <td>Alaska</td>\n",
       "      <td>710231</td>\n",
       "      <td>5.6</td>\n",
       "      <td>AK</td>\n",
       "    </tr>\n",
       "    <tr>\n",
       "      <th>2</th>\n",
       "      <td>Arizona</td>\n",
       "      <td>6392017</td>\n",
       "      <td>4.7</td>\n",
       "      <td>AZ</td>\n",
       "    </tr>\n",
       "    <tr>\n",
       "      <th>3</th>\n",
       "      <td>Arkansas</td>\n",
       "      <td>2915918</td>\n",
       "      <td>5.6</td>\n",
       "      <td>AR</td>\n",
       "    </tr>\n",
       "    <tr>\n",
       "      <th>4</th>\n",
       "      <td>California</td>\n",
       "      <td>37253956</td>\n",
       "      <td>4.4</td>\n",
       "      <td>CA</td>\n",
       "    </tr>\n",
       "  </tbody>\n",
       "</table>\n",
       "</div>"
      ],
      "text/plain": [
       "        State  Population  Murder.Rate Abbreviation\n",
       "0     Alabama     4779736          5.7           AL\n",
       "1      Alaska      710231          5.6           AK\n",
       "2     Arizona     6392017          4.7           AZ\n",
       "3    Arkansas     2915918          5.6           AR\n",
       "4  California    37253956          4.4           CA"
      ]
     },
     "execution_count": 2,
     "metadata": {},
     "output_type": "execute_result"
    }
   ],
   "source": [
    "data = pd.read_csv('C:/Users/HP/Practical-Statistics-for-data-science/Exploratory Data Analysis/Location Estimates of Population and Murder Rates/state.csv')\n",
    "data.head(5)"
   ]
  },
  {
   "cell_type": "markdown",
   "id": "d72a32e7",
   "metadata": {},
   "source": [
    "### Mean"
   ]
  },
  {
   "cell_type": "code",
   "execution_count": 3,
   "id": "4fbb9aae",
   "metadata": {},
   "outputs": [
    {
     "data": {
      "text/plain": [
       "6162876.3"
      ]
     },
     "execution_count": 3,
     "metadata": {},
     "output_type": "execute_result"
    }
   ],
   "source": [
    "mean = data['Population'].mean()\n",
    "mean"
   ]
  },
  {
   "cell_type": "markdown",
   "id": "4fa56ab4",
   "metadata": {},
   "source": [
    "### Median"
   ]
  },
  {
   "cell_type": "code",
   "execution_count": 4,
   "id": "e3318d60",
   "metadata": {},
   "outputs": [
    {
     "data": {
      "text/plain": [
       "4436369.5"
      ]
     },
     "execution_count": 4,
     "metadata": {},
     "output_type": "execute_result"
    }
   ],
   "source": [
    "median = data['Population'].median()\n",
    "median"
   ]
  },
  {
   "cell_type": "markdown",
   "id": "720a9752",
   "metadata": {},
   "source": [
    "### Trimmed Mean"
   ]
  },
  {
   "cell_type": "code",
   "execution_count": 5,
   "id": "7da3d464",
   "metadata": {},
   "outputs": [
    {
     "data": {
      "text/plain": [
       "4783697.125"
      ]
     },
     "execution_count": 5,
     "metadata": {},
     "output_type": "execute_result"
    }
   ],
   "source": [
    "trim_mean(data['Population'], 0.1)"
   ]
  },
  {
   "cell_type": "markdown",
   "id": "21ede1df",
   "metadata": {},
   "source": [
    "The Mean is greater than trimmed and which is greater than median as trimmed mean drops the 10% that is 5 of upper and lower states"
   ]
  },
  {
   "cell_type": "markdown",
   "id": "aa623317",
   "metadata": {},
   "source": [
    "### What is average rate of murder for the country? \n",
    "We need to consider the weighted mean because the of different population sizes of each of the state is different"
   ]
  },
  {
   "cell_type": "code",
   "execution_count": 6,
   "id": "30fc023d",
   "metadata": {},
   "outputs": [
    {
     "data": {
      "text/plain": [
       "4.445833981123393"
      ]
     },
     "execution_count": 6,
     "metadata": {},
     "output_type": "execute_result"
    }
   ],
   "source": [
    "np.average(data['Murder.Rate'] , weights = data['Population'])"
   ]
  },
  {
   "cell_type": "markdown",
   "id": "6438a11f",
   "metadata": {},
   "source": [
    "# Variability Estimates of States Population"
   ]
  },
  {
   "cell_type": "markdown",
   "id": "c1708661",
   "metadata": {},
   "source": [
    "### Standard Deviation"
   ]
  },
  {
   "cell_type": "code",
   "execution_count": 7,
   "id": "75b344e5",
   "metadata": {
    "scrolled": true
   },
   "outputs": [
    {
     "data": {
      "text/plain": [
       "6848235.347401142"
      ]
     },
     "execution_count": 7,
     "metadata": {},
     "output_type": "execute_result"
    }
   ],
   "source": [
    "data['Population'].std()"
   ]
  },
  {
   "cell_type": "markdown",
   "id": "ffc5d163",
   "metadata": {},
   "source": [
    "### Interquartile Range (75% quantile - 25% quantile)"
   ]
  },
  {
   "cell_type": "code",
   "execution_count": 8,
   "id": "0f9aa840",
   "metadata": {},
   "outputs": [
    {
     "data": {
      "text/plain": [
       "4847308.0"
      ]
     },
     "execution_count": 8,
     "metadata": {},
     "output_type": "execute_result"
    }
   ],
   "source": [
    "value = data['Population'].quantile(0.75) - data['Population'].quantile(0.25)\n",
    "value"
   ]
  },
  {
   "cell_type": "markdown",
   "id": "aaac702b",
   "metadata": {},
   "source": [
    "### Median Absolute Deviation"
   ]
  },
  {
   "cell_type": "code",
   "execution_count": 9,
   "id": "fdd0f4c0",
   "metadata": {},
   "outputs": [
    {
     "data": {
      "text/plain": [
       "3849876.1459979336"
      ]
     },
     "execution_count": 9,
     "metadata": {},
     "output_type": "execute_result"
    }
   ],
   "source": [
    "robust.scale.mad(data['Population'])"
   ]
  },
  {
   "cell_type": "markdown",
   "id": "89231350",
   "metadata": {},
   "source": [
    "# Exploring the Data Distribution"
   ]
  },
  {
   "cell_type": "markdown",
   "id": "69f3cc6b",
   "metadata": {},
   "source": [
    "### Boxplote"
   ]
  },
  {
   "cell_type": "code",
   "execution_count": 10,
   "id": "8589d63e",
   "metadata": {},
   "outputs": [
    {
     "data": {
      "text/plain": [
       "Text(0, 0.5, 'Population (millions)')"
      ]
     },
     "execution_count": 10,
     "metadata": {},
     "output_type": "execute_result"
    },
    {
     "data": {
      "image/png": "[encoded data removed]",
      "text/plain": [
       "<Figure size 640x480 with 1 Axes>"
      ]
     },
     "metadata": {},
     "output_type": "display_data"
    }
   ],
   "source": [
    "plt.boxplot(data['Population']/1_000_000);\n",
    "plt.ylabel('Population (millions)')"
   ]
  },
  {
   "cell_type": "markdown",
   "id": "6b835333",
   "metadata": {},
   "source": [
    "#### Median\n",
    "The median (middle quartile) marks the mid-point of the data and is shown by the line that divides the box into two parts.\n",
    "#### Median (Q2):\n",
    "The median is a measure of central tendency that represents the middle value of the dataset. It's indicated by a horizontal line within the box. The box represents the interquartile range (IQR), which is the range between the first quartile (Q1) and the third quartile (Q3).\n",
    "\n",
    "#### First Quartile (Q1):\n",
    "The first quartile is the median of the lower half of the data. It marks the 25th percentile of the dataset. It's the bottom edge of the box.\n",
    "\n",
    "#### Third Quartile (Q3): \n",
    "The third quartile is the median of the upper half of the data. It marks the 75th percentile of the dataset. It's the top edge of the box.\n",
    "\n",
    "#### Interquartile Range (IQR): \n",
    "The IQR is the range between Q1 and Q3. It provides a measure of the spread of the middle 50% of the data. It's the height of the box.\n",
    "\n",
    "#### Whiskers: \n",
    "The whiskers extend from the edges of the box to indicate the range of the data beyond the quartiles. The length of the whiskers varies, and they usually extend up to 1.5 times the IQR from the quartiles. Data points beyond the whiskers are considered potential outliers.\n",
    "\n",
    "#### Outliers:\n",
    "Individual data points that are significantly different from the rest of the data are considered outliers. They are plotted individually as points beyond the whiskers.\n",
    "\n",
    "\n",
    "If the upper whisker of a box plot is longer than the lower whisker, it indicates that the upper part of the data distribution has a larger spread or more variability than the lower part. In other words, the upper values of the dataset are more dispersed from the median compared to the lower values.\n"
   ]
  },
  {
   "cell_type": "markdown",
   "id": "eaee6de5",
   "metadata": {},
   "source": [
    "### Frequency Table and Histogram"
   ]
  },
  {
   "cell_type": "code",
   "execution_count": 11,
   "id": "c235a6b9",
   "metadata": {},
   "outputs": [
    {
     "data": {
      "text/plain": [
       "Population\n",
       "(526935.67, 4232659.0]      24\n",
       "(4232659.0, 7901692.0]      14\n",
       "(7901692.0, 11570725.0]      6\n",
       "(11570725.0, 15239758.0]     2\n",
       "(15239758.0, 18908791.0]     1\n",
       "(18908791.0, 22577824.0]     1\n",
       "(22577824.0, 26246857.0]     1\n",
       "(33584923.0, 37253956.0]     1\n",
       "(26246857.0, 29915890.0]     0\n",
       "(29915890.0, 33584923.0]     0\n",
       "Name: count, dtype: int64"
      ]
     },
     "execution_count": 11,
     "metadata": {},
     "output_type": "execute_result"
    }
   ],
   "source": [
    "binnedPopulation = pd.cut(data['Population'], 10)\n",
    "binnedPopulation.value_counts()"
   ]
  },
  {
   "cell_type": "code",
   "execution_count": 19,
   "id": "f4e1a75f",
   "metadata": {},
   "outputs": [
    {
     "data": {
      "text/plain": [
       "(array([0.13082466, 0.07631439, 0.03270617, 0.01090206, 0.00545103,\n",
       "        0.00545103, 0.00545103, 0.        , 0.        , 0.00545103]),\n",
       " array([ 0.563626,  4.232659,  7.901692, 11.570725, 15.239758, 18.908791,\n",
       "        22.577824, 26.246857, 29.91589 , 33.584923, 37.253956]),\n",
       " <BarContainer object of 10 artists>)"
      ]
     },
     "execution_count": 19,
     "metadata": {},
     "output_type": "execute_result"
    },
    {
     "data": {
      "image/png": "[encoded data removed]",
      "text/plain": [
       "<Figure size 640x480 with 1 Axes>"
      ]
     },
     "metadata": {},
     "output_type": "display_data"
    }
   ],
   "source": [
    "\n",
    "# Create a histogram\n",
    "plt.hist(data['Population'] / 1_000_000, bins=10, density=True, alpha=0.6, label='Histogram')"
   ]
  },
  {
   "cell_type": "markdown",
   "id": "95b6b424",
   "metadata": {},
   "source": [
    "### Density plots"
   ]
  },
  {
   "cell_type": "code",
   "execution_count": 15,
   "id": "f2b1c1f2",
   "metadata": {},
   "outputs": [
    {
     "data": {
      "text/plain": [
       "<Axes: ylabel='Density'>"
      ]
     },
     "execution_count": 15,
     "metadata": {},
     "output_type": "execute_result"
    },
    {
     "data": {
      "image/png": "[encoded data removed]",
      "text/plain": [
       "<Figure size 640x480 with 1 Axes>"
      ]
     },
     "metadata": {},
     "output_type": "display_data"
    }
   ],
   "source": [
    "ax = data['Murder.Rate'].plot.hist(density = True, xlim = [0, 12], bins = range(1, 12))\n",
    "data['Murder.Rate'].plot.density(ax = ax)"
   ]
  },
  {
   "cell_type": "code",
   "execution_count": 22,
   "id": "f8c0e520",
   "metadata": {},
   "outputs": [
    {
     "data": {
      "text/plain": [
       "<Axes: ylabel='Density'>"
      ]
     },
     "execution_count": 22,
     "metadata": {},
     "output_type": "execute_result"
    },
    {
     "data": {
      "image/png": "[encoded data removed]",
      "text/plain": [
       "<Figure size 640x480 with 1 Axes>"
      ]
     },
     "metadata": {},
     "output_type": "display_data"
    }
   ],
   "source": [
    "ax = data['Population'].plot.hist(density=True, bins=10, alpha=0.6)\n",
    "\n",
    "# Overlay a kernel density estimate on the same axes\n",
    "data['Population'].plot.density(ax=ax, color='red')"
   ]
  },
  {
   "cell_type": "code",
   "execution_count": null,
   "id": "3c095898",
   "metadata": {},
   "outputs": [],
   "source": []
  }
 ],
 "metadata": {
  "kernelspec": {
   "display_name": "Python 3 (ipykernel)",
   "language": "python",
   "name": "python3"
  },
  "language_info": {
   "codemirror_mode": {
    "name": "ipython",
    "version": 3
   },
   "file_extension": ".py",
   "mimetype": "text/x-python",
   "name": "python",
   "nbconvert_exporter": "python",
   "pygments_lexer": "ipython3",
   "version": "3.11.4"
  }
 },
 "nbformat": 4,
 "nbformat_minor": 5
}
